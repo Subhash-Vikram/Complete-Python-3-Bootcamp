{
 "cells": [
  {
   "cell_type": "code",
   "execution_count": 54,
   "metadata": {},
   "outputs": [],
   "source": [
    "import sys\n",
    "table = ['#','#','#','#','#','#','#','#','#']"
   ]
  },
  {
   "cell_type": "code",
   "execution_count": 55,
   "metadata": {},
   "outputs": [],
   "source": [
    "def display():\n",
    "    rows = [table[i:i+3] for i in range(9) if not i % 3]\n",
    "    for row in rows:\n",
    "        print('-------------')\n",
    "        print('| '+' | '.join(row).replace('#',' ')+' |')\n",
    "    print('-------------')"
   ]
  },
  {
   "cell_type": "code",
   "execution_count": 56,
   "metadata": {},
   "outputs": [],
   "source": [
    "def marker_selection():\n",
    "    while True:\n",
    "        player1 = input('Please Pick a marker for Player 1 (\"X\" or \"O\"): ')\n",
    "        if player1 == 'X':\n",
    "            player2 = 'O'\n",
    "            break\n",
    "        elif player1 == 'O':\n",
    "            player2 = 'X'\n",
    "            break\n",
    "        else:\n",
    "            print('Invalid marker. Please try again...')\n",
    "    print(f'Player1 is {player1}, Player2 is {player2}')\n",
    "    return player1,player2"
   ]
  },
  {
   "cell_type": "code",
   "execution_count": 57,
   "metadata": {},
   "outputs": [],
   "source": [
    "def check_win(table, marker):\n",
    "    result = False\n",
    "    rows = [table[i:i+3] for i in range(9) if not i % 3]\n",
    "    cols = [[],[],[]]\n",
    "    dgl = [[],[]]\n",
    "    for i in range(len(rows)):\n",
    "        cols[0].append(rows[i][0])\n",
    "        cols[1].append(rows[i][1])\n",
    "        cols[2].append(rows[i][2])\n",
    "        dgl[0].append(rows[i][2-i])\n",
    "        dgl[1].append(rows[i][i])\n",
    "        result = all(element == marker for element in rows[i])\n",
    "        if result:\n",
    "            return result\n",
    "    for col in cols:\n",
    "        result = all(element == marker for element in col)\n",
    "        if result:\n",
    "            return result\n",
    "    for val in dgl:\n",
    "        result = all(element == marker for element in val)\n",
    "        if result:\n",
    "            return result\n",
    "    \n",
    "    return result\n",
    "    \n",
    "        "
   ]
  },
  {
   "cell_type": "code",
   "execution_count": 65,
   "metadata": {},
   "outputs": [],
   "source": [
    "def start_game():\n",
    "    global table\n",
    "    player1 = ''\n",
    "    player2 = ''\n",
    "    player1, player2 = marker_selection()\n",
    "    P1_turn = True\n",
    "    while True:\n",
    "        display()\n",
    "        if P1_turn:\n",
    "            marker = player1\n",
    "            no = 1\n",
    "        else:\n",
    "            marker = player2\n",
    "            no = 2\n",
    "        pos = int(input(f'Enter position player {no} want to mark: '))-1\n",
    "        if table[pos] != '#':\n",
    "            print('Invalid position... Enter valid position!!!')\n",
    "            continue\n",
    "        table[pos] = marker\n",
    "        P1_turn = False if P1_turn else True\n",
    "        if check_win(table, marker):\n",
    "            display()\n",
    "            print(f'Congratulations player {no} won the game...!!!')\n",
    "            option = input('Want to play again (Yes or No): ')\n",
    "            table = ['#','#','#','#','#','#','#','#','#']\n",
    "            if option.lower() == 'yes':\n",
    "                start_game()\n",
    "            break\n",
    "                \n",
    "        if '#' not in table:\n",
    "            display()\n",
    "            option = input('Matched tied....Want to play again (Yes or No): ')\n",
    "            table = ['#','#','#','#','#','#','#','#','#']\n",
    "            if option.lower() == 'yes':\n",
    "                start_game()\n",
    "            break\n",
    "        \n",
    "            \n",
    "        "
   ]
  },
  {
   "cell_type": "code",
   "execution_count": null,
   "metadata": {},
   "outputs": [
    {
     "name": "stdout",
     "output_type": "stream",
     "text": [
      "Please Pick a marker for Player 1 (\"X\" or \"O\"): X\n",
      "Player1 is X, Player2 is O\n",
      "-------------\n",
      "|   |   |   |\n",
      "-------------\n",
      "|   |   |   |\n",
      "-------------\n",
      "|   |   |   |\n",
      "-------------\n",
      "Enter position player 1 want to mark: 5\n",
      "-------------\n",
      "|   |   |   |\n",
      "-------------\n",
      "|   | X |   |\n",
      "-------------\n",
      "|   |   |   |\n",
      "-------------\n",
      "Enter position player 2 want to mark: 1\n",
      "-------------\n",
      "| O |   |   |\n",
      "-------------\n",
      "|   | X |   |\n",
      "-------------\n",
      "|   |   |   |\n",
      "-------------\n",
      "Enter position player 1 want to mark: 2\n",
      "-------------\n",
      "| O | X |   |\n",
      "-------------\n",
      "|   | X |   |\n",
      "-------------\n",
      "|   |   |   |\n",
      "-------------\n",
      "Enter position player 2 want to mark: 4\n",
      "-------------\n",
      "| O | X |   |\n",
      "-------------\n",
      "| O | X |   |\n",
      "-------------\n",
      "|   |   |   |\n",
      "-------------\n",
      "Enter position player 1 want to mark: 8\n",
      "-------------\n",
      "| O | X |   |\n",
      "-------------\n",
      "| O | X |   |\n",
      "-------------\n",
      "|   | X |   |\n",
      "-------------\n",
      "Congratulations player 1 won the game...!!!\n",
      "Want to play again (Yes or No): no\n",
      "-------------\n",
      "|   |   |   |\n",
      "-------------\n",
      "|   |   |   |\n",
      "-------------\n",
      "|   |   |   |\n",
      "-------------\n"
     ]
    }
   ],
   "source": [
    "start_game()"
   ]
  },
  {
   "cell_type": "code",
   "execution_count": null,
   "metadata": {},
   "outputs": [],
   "source": []
  },
  {
   "cell_type": "code",
   "execution_count": null,
   "metadata": {},
   "outputs": [],
   "source": []
  }
 ],
 "metadata": {
  "kernelspec": {
   "display_name": "Python 3",
   "language": "python",
   "name": "python3"
  },
  "language_info": {
   "codemirror_mode": {
    "name": "ipython",
    "version": 3
   },
   "file_extension": ".py",
   "mimetype": "text/x-python",
   "name": "python",
   "nbconvert_exporter": "python",
   "pygments_lexer": "ipython3",
   "version": "3.8.5"
  }
 },
 "nbformat": 4,
 "nbformat_minor": 4
}
