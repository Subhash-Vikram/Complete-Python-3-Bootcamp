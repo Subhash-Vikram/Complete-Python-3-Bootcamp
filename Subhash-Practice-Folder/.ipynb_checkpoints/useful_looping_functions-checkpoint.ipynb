{
 "cells": [
  {
   "cell_type": "code",
   "execution_count": 2,
   "metadata": {},
   "outputs": [
    {
     "name": "stdout",
     "output_type": "stream",
     "text": [
      "position - 0 , value - 10.\n",
      "position - 1 , value - 12.\n",
      "position - 2 , value - 13.\n",
      "position - 3 , value - 14.\n",
      "position - 4 , value - 15.\n",
      "position - 5 , value - 16.\n",
      "position - 6 , value - 17.\n",
      "position - 7 , value - 18.\n",
      "position - 8 , value - 19.\n"
     ]
    }
   ],
   "source": [
    "# enumerate\n",
    "# return iterable item as tuples of index and value\n",
    "lst = [10,12,13,14,15,16,17,18,19]\n",
    "for index,value in enumerate(lst):\n",
    "    print(f'position - {index} , value - {value}.')"
   ]
  },
  {
   "cell_type": "code",
   "execution_count": 3,
   "metadata": {},
   "outputs": [
    {
     "name": "stdout",
     "output_type": "stream",
     "text": [
      "key - 0 , value - k1.\n",
      "key - 1 , value - k2.\n",
      "key - 2 , value - k3.\n",
      "key - 3 , value - k4.\n",
      "key - 4 , value - k5.\n",
      "key - 5 , value - k6.\n"
     ]
    }
   ],
   "source": [
    "# enumerate for dict-won't work for dict\n",
    "dt = {'k1':1,'k2':2,'k3':3,'k4':5,'k5':7,'k6':9}\n",
    "for key,value in enumerate(dt):\n",
    "    print(f'key - {key} , value - {value}.')"
   ]
  },
  {
   "cell_type": "code",
   "execution_count": 4,
   "metadata": {},
   "outputs": [
    {
     "name": "stdout",
     "output_type": "stream",
     "text": [
      "[(1, 'a'), (2, 'b'), (3, 'c')]\n"
     ]
    }
   ],
   "source": [
    "#zip function\n",
    "lst = [1,2,3]\n",
    "lst2 = ['a','b','c']\n",
    "ziped_lst = list(zip(lst,lst2))\n",
    "print(ziped_lst)"
   ]
  },
  {
   "cell_type": "code",
   "execution_count": 5,
   "metadata": {},
   "outputs": [
    {
     "name": "stdout",
     "output_type": "stream",
     "text": [
      "[7, 5, 8, 2, 10, 1, 6, 9, 4, 3]\n"
     ]
    }
   ],
   "source": [
    "#shuffle function\n",
    "# inplace function (returns nothing)\n",
    "from random import shuffle\n",
    "lst = [1,2,3,4,5,6,7,8,9,10]\n",
    "shuffle(lst)\n",
    "print(lst)"
   ]
  },
  {
   "cell_type": "code",
   "execution_count": 9,
   "metadata": {},
   "outputs": [
    {
     "name": "stdout",
     "output_type": "stream",
     "text": [
      "2\n"
     ]
    }
   ],
   "source": [
    "#randint function\n",
    "#used to generate random integer\n",
    "from random import randint\n",
    "print(randint(1,20))"
   ]
  },
  {
   "cell_type": "code",
   "execution_count": null,
   "metadata": {},
   "outputs": [],
   "source": []
  },
  {
   "cell_type": "code",
   "execution_count": null,
   "metadata": {},
   "outputs": [],
   "source": []
  }
 ],
 "metadata": {
  "kernelspec": {
   "display_name": "Python 3",
   "language": "python",
   "name": "python3"
  },
  "language_info": {
   "codemirror_mode": {
    "name": "ipython",
    "version": 3
   },
   "file_extension": ".py",
   "mimetype": "text/x-python",
   "name": "python",
   "nbconvert_exporter": "python",
   "pygments_lexer": "ipython3",
   "version": "3.8.5"
  }
 },
 "nbformat": 4,
 "nbformat_minor": 4
}
